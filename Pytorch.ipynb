{
  "nbformat": 4,
  "nbformat_minor": 0,
  "metadata": {
    "colab": {
      "name": "Pytorch",
      "provenance": [],
      "collapsed_sections": [],
      "include_colab_link": true
    },
    "kernelspec": {
      "name": "python3",
      "display_name": "Python 3"
    },
    "language_info": {
      "name": "python"
    }
  },
  "cells": [
    {
      "cell_type": "markdown",
      "metadata": {
        "id": "view-in-github",
        "colab_type": "text"
      },
      "source": [
        "<a href=\"https://colab.research.google.com/github/RifatIslamOmio/Python-ML-library-practice/blob/main/Pytorch.ipynb\" target=\"_parent\"><img src=\"https://colab.research.google.com/assets/colab-badge.svg\" alt=\"Open In Colab\"/></a>"
      ]
    },
    {
      "cell_type": "code",
      "metadata": {
        "id": "kHA-FQ03TE-Y"
      },
      "source": [
        "import torch\n",
        "import numpy as np"
      ],
      "execution_count": 1,
      "outputs": []
    },
    {
      "cell_type": "code",
      "metadata": {
        "id": "rYrEvkWacPqY"
      },
      "source": [
        "arr = np.arange(1,13)"
      ],
      "execution_count": 2,
      "outputs": []
    },
    {
      "cell_type": "code",
      "metadata": {
        "colab": {
          "base_uri": "https://localhost:8080/"
        },
        "id": "FNc-Y7OedZgP",
        "outputId": "418489ad-1018-417e-937f-f974f76daa72"
      },
      "source": [
        "arr"
      ],
      "execution_count": 3,
      "outputs": [
        {
          "output_type": "execute_result",
          "data": {
            "text/plain": [
              "array([ 1,  2,  3,  4,  5,  6,  7,  8,  9, 10, 11, 12])"
            ]
          },
          "metadata": {
            "tags": []
          },
          "execution_count": 3
        }
      ]
    },
    {
      "cell_type": "code",
      "metadata": {
        "colab": {
          "base_uri": "https://localhost:8080/"
        },
        "id": "2BlcniGRiVn6",
        "outputId": "86caa778-d95e-4891-fdb0-92c2bcb6edbd"
      },
      "source": [
        "arr.dtype"
      ],
      "execution_count": 4,
      "outputs": [
        {
          "output_type": "execute_result",
          "data": {
            "text/plain": [
              "dtype('int64')"
            ]
          },
          "metadata": {
            "tags": []
          },
          "execution_count": 4
        }
      ]
    },
    {
      "cell_type": "markdown",
      "metadata": {
        "id": "sIGobhdRr5Hy"
      },
      "source": [
        "## **Creating Tensor From Numpy**"
      ]
    },
    {
      "cell_type": "code",
      "metadata": {
        "id": "aJjWXdQ8i6-V"
      },
      "source": [
        "tarr = torch.from_numpy(arr)"
      ],
      "execution_count": 5,
      "outputs": []
    },
    {
      "cell_type": "code",
      "metadata": {
        "colab": {
          "base_uri": "https://localhost:8080/"
        },
        "id": "6BD62mZ7jIp8",
        "outputId": "36b1a16a-51a4-4bb6-c683-3bd80983a674"
      },
      "source": [
        "tarr.dtype"
      ],
      "execution_count": 6,
      "outputs": [
        {
          "output_type": "execute_result",
          "data": {
            "text/plain": [
              "torch.int64"
            ]
          },
          "metadata": {
            "tags": []
          },
          "execution_count": 6
        }
      ]
    },
    {
      "cell_type": "code",
      "metadata": {
        "colab": {
          "base_uri": "https://localhost:8080/"
        },
        "id": "Ocm4rrA6jNW8",
        "outputId": "45198c12-71d7-4f40-ddb9-e23415d6644b"
      },
      "source": [
        "#another way to create tensor\n",
        "torch.as_tensor(arr)"
      ],
      "execution_count": 7,
      "outputs": [
        {
          "output_type": "execute_result",
          "data": {
            "text/plain": [
              "tensor([ 1,  2,  3,  4,  5,  6,  7,  8,  9, 10, 11, 12])"
            ]
          },
          "metadata": {
            "tags": []
          },
          "execution_count": 7
        }
      ]
    },
    {
      "cell_type": "code",
      "metadata": {
        "id": "QIUCeKdajhBU"
      },
      "source": [
        "arr = arr.reshape(3,4)"
      ],
      "execution_count": 8,
      "outputs": []
    },
    {
      "cell_type": "code",
      "metadata": {
        "colab": {
          "base_uri": "https://localhost:8080/"
        },
        "id": "AvqyfjZPlBCU",
        "outputId": "45af8599-c54b-4960-a811-1fc7b0ef0950"
      },
      "source": [
        "arr"
      ],
      "execution_count": 9,
      "outputs": [
        {
          "output_type": "execute_result",
          "data": {
            "text/plain": [
              "array([[ 1,  2,  3,  4],\n",
              "       [ 5,  6,  7,  8],\n",
              "       [ 9, 10, 11, 12]])"
            ]
          },
          "metadata": {
            "tags": []
          },
          "execution_count": 9
        }
      ]
    },
    {
      "cell_type": "code",
      "metadata": {
        "id": "yKHtU9gxlBsL"
      },
      "source": [
        "tarr = torch.from_numpy(arr)"
      ],
      "execution_count": 10,
      "outputs": []
    },
    {
      "cell_type": "code",
      "metadata": {
        "colab": {
          "base_uri": "https://localhost:8080/"
        },
        "id": "JcGMdatiVa8q",
        "outputId": "8b23853e-74c8-4771-c4bf-0830b942cc22"
      },
      "source": [
        "tarr"
      ],
      "execution_count": 11,
      "outputs": [
        {
          "output_type": "execute_result",
          "data": {
            "text/plain": [
              "tensor([[ 1,  2,  3,  4],\n",
              "        [ 5,  6,  7,  8],\n",
              "        [ 9, 10, 11, 12]])"
            ]
          },
          "metadata": {
            "tags": []
          },
          "execution_count": 11
        }
      ]
    },
    {
      "cell_type": "code",
      "metadata": {
        "id": "SVqxJ5BrVl43"
      },
      "source": [
        "arr[0][0] = 99"
      ],
      "execution_count": 12,
      "outputs": []
    },
    {
      "cell_type": "code",
      "metadata": {
        "colab": {
          "base_uri": "https://localhost:8080/"
        },
        "id": "zAgpD6LSWjDs",
        "outputId": "4099dc5b-03bb-40ec-bed5-deb291c66402"
      },
      "source": [
        "tarr"
      ],
      "execution_count": 13,
      "outputs": [
        {
          "output_type": "execute_result",
          "data": {
            "text/plain": [
              "tensor([[99,  2,  3,  4],\n",
              "        [ 5,  6,  7,  8],\n",
              "        [ 9, 10, 11, 12]])"
            ]
          },
          "metadata": {
            "tags": []
          },
          "execution_count": 13
        }
      ]
    },
    {
      "cell_type": "code",
      "metadata": {
        "id": "9jiW0dtXZ_2A"
      },
      "source": [
        "arr = np.arange(0.0, 5, .25).reshape(4,5)"
      ],
      "execution_count": 14,
      "outputs": []
    },
    {
      "cell_type": "code",
      "metadata": {
        "colab": {
          "base_uri": "https://localhost:8080/"
        },
        "id": "U2x1lkchWoTM",
        "outputId": "3c30bbc8-e8c9-4664-ae6f-9f4433231ab3"
      },
      "source": [
        "arr\n"
      ],
      "execution_count": 15,
      "outputs": [
        {
          "output_type": "execute_result",
          "data": {
            "text/plain": [
              "array([[0.  , 0.25, 0.5 , 0.75, 1.  ],\n",
              "       [1.25, 1.5 , 1.75, 2.  , 2.25],\n",
              "       [2.5 , 2.75, 3.  , 3.25, 3.5 ],\n",
              "       [3.75, 4.  , 4.25, 4.5 , 4.75]])"
            ]
          },
          "metadata": {
            "tags": []
          },
          "execution_count": 15
        }
      ]
    },
    {
      "cell_type": "code",
      "metadata": {
        "id": "1qO1oAkBaK3N"
      },
      "source": [
        "my_tensor = torch.tensor(arr)"
      ],
      "execution_count": 16,
      "outputs": []
    },
    {
      "cell_type": "code",
      "metadata": {
        "colab": {
          "base_uri": "https://localhost:8080/"
        },
        "id": "vOtfv73Zkl2j",
        "outputId": "3d8a2bae-d202-4649-91a5-3875a6247a7c"
      },
      "source": [
        "my_tensor"
      ],
      "execution_count": 17,
      "outputs": [
        {
          "output_type": "execute_result",
          "data": {
            "text/plain": [
              "tensor([[0.0000, 0.2500, 0.5000, 0.7500, 1.0000],\n",
              "        [1.2500, 1.5000, 1.7500, 2.0000, 2.2500],\n",
              "        [2.5000, 2.7500, 3.0000, 3.2500, 3.5000],\n",
              "        [3.7500, 4.0000, 4.2500, 4.5000, 4.7500]], dtype=torch.float64)"
            ]
          },
          "metadata": {
            "tags": []
          },
          "execution_count": 17
        }
      ]
    },
    {
      "cell_type": "code",
      "metadata": {
        "id": "cuZzQW68lRDz"
      },
      "source": [
        "other_tensor = torch.from_numpy(arr)"
      ],
      "execution_count": 18,
      "outputs": []
    },
    {
      "cell_type": "code",
      "metadata": {
        "id": "TMKaI4fUmrtm"
      },
      "source": [
        "arr[0][0] = 0.99 #Change to test"
      ],
      "execution_count": 19,
      "outputs": []
    },
    {
      "cell_type": "code",
      "metadata": {
        "colab": {
          "base_uri": "https://localhost:8080/"
        },
        "id": "kth3X7fRm2oi",
        "outputId": "5850af0e-42da-497a-cccc-325506f59881"
      },
      "source": [
        "other_tensor #value will be changed in tensor as well"
      ],
      "execution_count": 20,
      "outputs": [
        {
          "output_type": "execute_result",
          "data": {
            "text/plain": [
              "tensor([[0.9900, 0.2500, 0.5000, 0.7500, 1.0000],\n",
              "        [1.2500, 1.5000, 1.7500, 2.0000, 2.2500],\n",
              "        [2.5000, 2.7500, 3.0000, 3.2500, 3.5000],\n",
              "        [3.7500, 4.0000, 4.2500, 4.5000, 4.7500]], dtype=torch.float64)"
            ]
          },
          "metadata": {
            "tags": []
          },
          "execution_count": 20
        }
      ]
    },
    {
      "cell_type": "code",
      "metadata": {
        "colab": {
          "base_uri": "https://localhost:8080/"
        },
        "id": "dsTUWE-HnPLi",
        "outputId": "0d85cc30-251f-46f9-fcb6-b1c5009c5c8d"
      },
      "source": [
        "my_tensor #value wont change (creates it's own reference)"
      ],
      "execution_count": 21,
      "outputs": [
        {
          "output_type": "execute_result",
          "data": {
            "text/plain": [
              "tensor([[0.0000, 0.2500, 0.5000, 0.7500, 1.0000],\n",
              "        [1.2500, 1.5000, 1.7500, 2.0000, 2.2500],\n",
              "        [2.5000, 2.7500, 3.0000, 3.2500, 3.5000],\n",
              "        [3.7500, 4.0000, 4.2500, 4.5000, 4.7500]], dtype=torch.float64)"
            ]
          },
          "metadata": {
            "tags": []
          },
          "execution_count": 21
        }
      ]
    },
    {
      "cell_type": "markdown",
      "metadata": {
        "id": "KOmlzcYWDjDk"
      },
      "source": [
        "## **Part 2**\n",
        "### Creating torch from scratch"
      ]
    },
    {
      "cell_type": "code",
      "metadata": {
        "id": "5Aqh9xZfDlzL"
      },
      "source": [
        "my_tensor = torch.empty(2,2)"
      ],
      "execution_count": 22,
      "outputs": []
    },
    {
      "cell_type": "code",
      "metadata": {
        "colab": {
          "base_uri": "https://localhost:8080/"
        },
        "id": "WU5V7sb0ExmZ",
        "outputId": "46811a6d-f41e-43fb-997a-65411354ff51"
      },
      "source": [
        "my_tensor"
      ],
      "execution_count": 23,
      "outputs": [
        {
          "output_type": "execute_result",
          "data": {
            "text/plain": [
              "tensor([[2.1757e-05, 3.0918e-41],\n",
              "        [3.3631e-44, 0.0000e+00]])"
            ]
          },
          "metadata": {
            "tags": []
          },
          "execution_count": 23
        }
      ]
    },
    {
      "cell_type": "code",
      "metadata": {
        "colab": {
          "base_uri": "https://localhost:8080/"
        },
        "id": "R7EPWr_7FAGX",
        "outputId": "e80b0722-3bdc-448d-e2d3-50a079762e5f"
      },
      "source": [
        "torch.zeros(4,4, dtype=torch.float64) #Can mention the data type you want"
      ],
      "execution_count": 24,
      "outputs": [
        {
          "output_type": "execute_result",
          "data": {
            "text/plain": [
              "tensor([[0., 0., 0., 0.],\n",
              "        [0., 0., 0., 0.],\n",
              "        [0., 0., 0., 0.],\n",
              "        [0., 0., 0., 0.]], dtype=torch.float64)"
            ]
          },
          "metadata": {
            "tags": []
          },
          "execution_count": 24
        }
      ]
    },
    {
      "cell_type": "code",
      "metadata": {
        "colab": {
          "base_uri": "https://localhost:8080/"
        },
        "id": "GOhf8L7qFPk0",
        "outputId": "d3ee1f1d-d05c-4961-cecd-60e178880438"
      },
      "source": [
        "torch.ones(5,4)"
      ],
      "execution_count": 25,
      "outputs": [
        {
          "output_type": "execute_result",
          "data": {
            "text/plain": [
              "tensor([[1., 1., 1., 1.],\n",
              "        [1., 1., 1., 1.],\n",
              "        [1., 1., 1., 1.],\n",
              "        [1., 1., 1., 1.],\n",
              "        [1., 1., 1., 1.]])"
            ]
          },
          "metadata": {
            "tags": []
          },
          "execution_count": 25
        }
      ]
    },
    {
      "cell_type": "code",
      "metadata": {
        "id": "MjNf07DvFjEw"
      },
      "source": [
        "x = torch.arange(0,25,3).reshape(3,3) #same as numpy"
      ],
      "execution_count": 26,
      "outputs": []
    },
    {
      "cell_type": "code",
      "metadata": {
        "colab": {
          "base_uri": "https://localhost:8080/"
        },
        "id": "PHEpU1wWtTNV",
        "outputId": "5d791d4c-3136-4433-9f64-4022591e8a99"
      },
      "source": [
        "x"
      ],
      "execution_count": 27,
      "outputs": [
        {
          "output_type": "execute_result",
          "data": {
            "text/plain": [
              "tensor([[ 0,  3,  6],\n",
              "        [ 9, 12, 15],\n",
              "        [18, 21, 24]])"
            ]
          },
          "metadata": {
            "tags": []
          },
          "execution_count": 27
        }
      ]
    },
    {
      "cell_type": "code",
      "metadata": {
        "colab": {
          "base_uri": "https://localhost:8080/"
        },
        "id": "8fXKEMSGtgdM",
        "outputId": "4cc35471-bf6b-43c8-c09d-d87a657bcf26"
      },
      "source": [
        "torch.linspace(0,18,12)   #linearly spaced data"
      ],
      "execution_count": 28,
      "outputs": [
        {
          "output_type": "execute_result",
          "data": {
            "text/plain": [
              "tensor([ 0.0000,  1.6364,  3.2727,  4.9091,  6.5455,  8.1818,  9.8182, 11.4545,\n",
              "        13.0909, 14.7273, 16.3636, 18.0000])"
            ]
          },
          "metadata": {
            "tags": []
          },
          "execution_count": 28
        }
      ]
    },
    {
      "cell_type": "code",
      "metadata": {
        "id": "V56JIwVvxNUj"
      },
      "source": [
        "#change data type\n",
        "my_tensor = torch.tensor([1,2,3,4,5])"
      ],
      "execution_count": 29,
      "outputs": []
    },
    {
      "cell_type": "code",
      "metadata": {
        "colab": {
          "base_uri": "https://localhost:8080/"
        },
        "id": "fAJ6W35ZxdPE",
        "outputId": "05815059-273f-4dec-c125-f4aea17c3082"
      },
      "source": [
        "my_tensor.dtype"
      ],
      "execution_count": 30,
      "outputs": [
        {
          "output_type": "execute_result",
          "data": {
            "text/plain": [
              "torch.int64"
            ]
          },
          "metadata": {
            "tags": []
          },
          "execution_count": 30
        }
      ]
    },
    {
      "cell_type": "code",
      "metadata": {
        "id": "yZkA32k4xfwM"
      },
      "source": [
        "my_tensor = my_tensor.type(torch.float64)"
      ],
      "execution_count": 31,
      "outputs": []
    },
    {
      "cell_type": "code",
      "metadata": {
        "colab": {
          "base_uri": "https://localhost:8080/"
        },
        "id": "UUjTcjCsxrUM",
        "outputId": "6106f2b9-c8a6-419f-941d-bf28b3ac128b"
      },
      "source": [
        "my_tensor"
      ],
      "execution_count": 32,
      "outputs": [
        {
          "output_type": "execute_result",
          "data": {
            "text/plain": [
              "tensor([1., 2., 3., 4., 5.], dtype=torch.float64)"
            ]
          },
          "metadata": {
            "tags": []
          },
          "execution_count": 32
        }
      ]
    },
    {
      "cell_type": "markdown",
      "metadata": {
        "id": "c400Y6rl4thW"
      },
      "source": [
        "### Random"
      ]
    },
    {
      "cell_type": "code",
      "metadata": {
        "colab": {
          "base_uri": "https://localhost:8080/"
        },
        "id": "201_d7e-xs_j",
        "outputId": "bb83ad7a-98a9-44fd-9f91-5245cd5cf747"
      },
      "source": [
        "torch.rand(4,5)"
      ],
      "execution_count": 33,
      "outputs": [
        {
          "output_type": "execute_result",
          "data": {
            "text/plain": [
              "tensor([[0.4335, 0.8987, 0.7579, 0.8060, 0.0702],\n",
              "        [0.1564, 0.5891, 0.0618, 0.0908, 0.2789],\n",
              "        [0.3482, 0.7165, 0.8782, 0.7954, 0.6246],\n",
              "        [0.0086, 0.8374, 0.3960, 0.7826, 0.9805]])"
            ]
          },
          "metadata": {
            "tags": []
          },
          "execution_count": 33
        }
      ]
    },
    {
      "cell_type": "code",
      "metadata": {
        "colab": {
          "base_uri": "https://localhost:8080/"
        },
        "id": "uZRjpcxb4zBd",
        "outputId": "aa3375e8-b729-4322-d7e4-ef5c3f6f7a6b"
      },
      "source": [
        "torch.randn(4,5)"
      ],
      "execution_count": 34,
      "outputs": [
        {
          "output_type": "execute_result",
          "data": {
            "text/plain": [
              "tensor([[ 0.5512,  0.4132, -0.1571, -1.1292,  1.4150],\n",
              "        [-0.2135,  1.0596,  0.8710, -0.9920,  1.9823],\n",
              "        [ 0.1743, -0.5325,  0.4799, -0.9521,  2.9620],\n",
              "        [-0.3941, -0.8972,  0.3083,  2.4228,  0.6956]])"
            ]
          },
          "metadata": {
            "tags": []
          },
          "execution_count": 34
        }
      ]
    },
    {
      "cell_type": "code",
      "metadata": {
        "colab": {
          "base_uri": "https://localhost:8080/"
        },
        "id": "IhgurXdB43Vf",
        "outputId": "90ef98dc-e89d-4be3-e0d3-843e4926a0ab"
      },
      "source": [
        "torch.randint(0,15,(4,5))"
      ],
      "execution_count": 35,
      "outputs": [
        {
          "output_type": "execute_result",
          "data": {
            "text/plain": [
              "tensor([[13, 10,  1,  0, 14],\n",
              "        [ 4,  3,  2,  4,  0],\n",
              "        [ 0,  2,  2, 10, 14],\n",
              "        [12, 13,  9, 11,  7]])"
            ]
          },
          "metadata": {
            "tags": []
          },
          "execution_count": 35
        }
      ]
    },
    {
      "cell_type": "code",
      "metadata": {
        "id": "d87PhNHG4_Kj"
      },
      "source": [
        "x = torch.zeros(2,5)"
      ],
      "execution_count": 36,
      "outputs": []
    },
    {
      "cell_type": "code",
      "metadata": {
        "colab": {
          "base_uri": "https://localhost:8080/"
        },
        "id": "ADiUSJNK5vaZ",
        "outputId": "2f679103-eba3-4e0d-984a-d84b1b39f443"
      },
      "source": [
        "torch.rand_like(x)"
      ],
      "execution_count": 37,
      "outputs": [
        {
          "output_type": "execute_result",
          "data": {
            "text/plain": [
              "tensor([[0.1719, 0.2106, 0.2744, 0.3203, 0.9361],\n",
              "        [0.4469, 0.4328, 0.4299, 0.3392, 0.1399]])"
            ]
          },
          "metadata": {
            "tags": []
          },
          "execution_count": 37
        }
      ]
    },
    {
      "cell_type": "code",
      "metadata": {
        "colab": {
          "base_uri": "https://localhost:8080/"
        },
        "id": "dQ71Rz0i59SF",
        "outputId": "f06865b3-dbdf-405e-c610-d624347ecc72"
      },
      "source": [
        "torch.randint_like(x, 0, 15)"
      ],
      "execution_count": 38,
      "outputs": [
        {
          "output_type": "execute_result",
          "data": {
            "text/plain": [
              "tensor([[ 4.,  3.,  5.,  2.,  8.],\n",
              "        [ 8., 12.,  7.,  8., 14.]])"
            ]
          },
          "metadata": {
            "tags": []
          },
          "execution_count": 38
        }
      ]
    },
    {
      "cell_type": "code",
      "metadata": {
        "colab": {
          "base_uri": "https://localhost:8080/"
        },
        "id": "ojymcqGu6MZM",
        "outputId": "a9e0ed66-db1b-46aa-bdf7-397035cc3038"
      },
      "source": [
        "torch.randn_like(x,dtype=torch.float64)"
      ],
      "execution_count": 39,
      "outputs": [
        {
          "output_type": "execute_result",
          "data": {
            "text/plain": [
              "tensor([[-1.2862, -0.2061, -0.6868, -0.6856,  0.3940],\n",
              "        [ 0.6633, -1.4127,  0.4212, -2.0981,  1.4950]], dtype=torch.float64)"
            ]
          },
          "metadata": {
            "tags": []
          },
          "execution_count": 39
        }
      ]
    },
    {
      "cell_type": "code",
      "metadata": {
        "id": "LFtvKlTK6WGH",
        "colab": {
          "base_uri": "https://localhost:8080/"
        },
        "outputId": "97c6d17f-fd26-47b8-c736-8c6ba1461c0d"
      },
      "source": [
        "torch.manual_seed(23)\n",
        "torch.rand(4,3)"
      ],
      "execution_count": 40,
      "outputs": [
        {
          "output_type": "execute_result",
          "data": {
            "text/plain": [
              "tensor([[0.4283, 0.2889, 0.4224],\n",
              "        [0.3571, 0.9577, 0.1100],\n",
              "        [0.2933, 0.9205, 0.5876],\n",
              "        [0.1299, 0.6729, 0.1028]])"
            ]
          },
          "metadata": {
            "tags": []
          },
          "execution_count": 40
        }
      ]
    },
    {
      "cell_type": "markdown",
      "metadata": {
        "id": "L8sItKzwpACK"
      },
      "source": [
        "## **Tensor** **Operations**"
      ]
    },
    {
      "cell_type": "code",
      "metadata": {
        "id": "4oRiycoQlia4"
      },
      "source": [
        "x = torch.arange(6).reshape(3,2)\n"
      ],
      "execution_count": 41,
      "outputs": []
    },
    {
      "cell_type": "code",
      "metadata": {
        "colab": {
          "base_uri": "https://localhost:8080/"
        },
        "id": "t78Yx8Ryp5Vy",
        "outputId": "875adf60-844c-41ea-b257-93a9132c5427"
      },
      "source": [
        "x"
      ],
      "execution_count": 42,
      "outputs": [
        {
          "output_type": "execute_result",
          "data": {
            "text/plain": [
              "tensor([[0, 1],\n",
              "        [2, 3],\n",
              "        [4, 5]])"
            ]
          },
          "metadata": {
            "tags": []
          },
          "execution_count": 42
        }
      ]
    },
    {
      "cell_type": "code",
      "metadata": {
        "colab": {
          "base_uri": "https://localhost:8080/"
        },
        "id": "SDxZZH1ipMAI",
        "outputId": "b974273d-cd63-418e-a703-b1bd294ddcbe"
      },
      "source": [
        "x[1,1]"
      ],
      "execution_count": 43,
      "outputs": [
        {
          "output_type": "execute_result",
          "data": {
            "text/plain": [
              "tensor(3)"
            ]
          },
          "metadata": {
            "tags": []
          },
          "execution_count": 43
        }
      ]
    },
    {
      "cell_type": "code",
      "metadata": {
        "colab": {
          "base_uri": "https://localhost:8080/"
        },
        "id": "18Bn2HpUpSdb",
        "outputId": "da230f1c-3ff7-44ab-8fe4-f1db49cf7de4"
      },
      "source": [
        "x[:, 0]"
      ],
      "execution_count": 44,
      "outputs": [
        {
          "output_type": "execute_result",
          "data": {
            "text/plain": [
              "tensor([0, 2, 4])"
            ]
          },
          "metadata": {
            "tags": []
          },
          "execution_count": 44
        }
      ]
    },
    {
      "cell_type": "code",
      "metadata": {
        "id": "a4BWy9tLqB6X",
        "colab": {
          "base_uri": "https://localhost:8080/"
        },
        "outputId": "f4a8e854-91a1-4148-92cb-a9709da9e0ba"
      },
      "source": [
        "x[:]"
      ],
      "execution_count": 45,
      "outputs": [
        {
          "output_type": "execute_result",
          "data": {
            "text/plain": [
              "tensor([[0, 1],\n",
              "        [2, 3],\n",
              "        [4, 5]])"
            ]
          },
          "metadata": {
            "tags": []
          },
          "execution_count": 45
        }
      ]
    },
    {
      "cell_type": "code",
      "metadata": {
        "colab": {
          "base_uri": "https://localhost:8080/"
        },
        "id": "LwGVHAA-XJW-",
        "outputId": "50d783f3-50ca-40f3-e14d-bd9e1f797910"
      },
      "source": [
        "x[:,1:] #slicing for column"
      ],
      "execution_count": 46,
      "outputs": [
        {
          "output_type": "execute_result",
          "data": {
            "text/plain": [
              "tensor([[1],\n",
              "        [3],\n",
              "        [5]])"
            ]
          },
          "metadata": {
            "tags": []
          },
          "execution_count": 46
        }
      ]
    },
    {
      "cell_type": "code",
      "metadata": {
        "colab": {
          "base_uri": "https://localhost:8080/"
        },
        "id": "Pjtj088Nal4n",
        "outputId": "2c3dd83c-31d2-463c-8149-2b1adbe754a8"
      },
      "source": [
        "x = torch.arange(12)\n",
        "x"
      ],
      "execution_count": 47,
      "outputs": [
        {
          "output_type": "execute_result",
          "data": {
            "text/plain": [
              "tensor([ 0,  1,  2,  3,  4,  5,  6,  7,  8,  9, 10, 11])"
            ]
          },
          "metadata": {
            "tags": []
          },
          "execution_count": 47
        }
      ]
    },
    {
      "cell_type": "code",
      "metadata": {
        "colab": {
          "base_uri": "https://localhost:8080/"
        },
        "id": "XmspJgRabZSY",
        "outputId": "57fe7068-4ab6-44d3-9b72-badbf67d20ff"
      },
      "source": [
        "x.view(3,4)"
      ],
      "execution_count": 48,
      "outputs": [
        {
          "output_type": "execute_result",
          "data": {
            "text/plain": [
              "tensor([[ 0,  1,  2,  3],\n",
              "        [ 4,  5,  6,  7],\n",
              "        [ 8,  9, 10, 11]])"
            ]
          },
          "metadata": {
            "tags": []
          },
          "execution_count": 48
        }
      ]
    },
    {
      "cell_type": "code",
      "metadata": {
        "id": "YUSI5EzgbeRf"
      },
      "source": [
        "x = torch.arange(10)"
      ],
      "execution_count": 49,
      "outputs": []
    },
    {
      "cell_type": "code",
      "metadata": {
        "colab": {
          "base_uri": "https://localhost:8080/"
        },
        "id": "LIdaIFEg5mYV",
        "outputId": "8292226a-788e-48a5-ff68-fe92db6ad54c"
      },
      "source": [
        "x"
      ],
      "execution_count": 50,
      "outputs": [
        {
          "output_type": "execute_result",
          "data": {
            "text/plain": [
              "tensor([0, 1, 2, 3, 4, 5, 6, 7, 8, 9])"
            ]
          },
          "metadata": {
            "tags": []
          },
          "execution_count": 50
        }
      ]
    },
    {
      "cell_type": "code",
      "metadata": {
        "colab": {
          "base_uri": "https://localhost:8080/"
        },
        "id": "Q7K5QT6X5msb",
        "outputId": "de3a6de0-5eba-4cca-f056-0cc52ffc831a"
      },
      "source": [
        "#Finding out the second dimention\n",
        "x.view(2,-1)"
      ],
      "execution_count": 51,
      "outputs": [
        {
          "output_type": "execute_result",
          "data": {
            "text/plain": [
              "tensor([[0, 1, 2, 3, 4],\n",
              "        [5, 6, 7, 8, 9]])"
            ]
          },
          "metadata": {
            "tags": []
          },
          "execution_count": 51
        }
      ]
    },
    {
      "cell_type": "code",
      "metadata": {
        "colab": {
          "base_uri": "https://localhost:8080/"
        },
        "id": "GIuQnu9L5uvz",
        "outputId": "8bdd9cf0-c0e8-408f-d53b-c20c8c08020b"
      },
      "source": [
        "x.view(-1,2)"
      ],
      "execution_count": 52,
      "outputs": [
        {
          "output_type": "execute_result",
          "data": {
            "text/plain": [
              "tensor([[0, 1],\n",
              "        [2, 3],\n",
              "        [4, 5],\n",
              "        [6, 7],\n",
              "        [8, 9]])"
            ]
          },
          "metadata": {
            "tags": []
          },
          "execution_count": 52
        }
      ]
    },
    {
      "cell_type": "markdown",
      "metadata": {
        "id": "z04IZw6A5S8Y"
      },
      "source": [
        "## Torch Operations"
      ]
    },
    {
      "cell_type": "code",
      "metadata": {
        "id": "0coas7hqDZf7"
      },
      "source": [
        "a = torch.tensor([1.,2.,3.])\n",
        "b = torch.tensor([4.,5.,6.])"
      ],
      "execution_count": 53,
      "outputs": []
    },
    {
      "cell_type": "code",
      "metadata": {
        "colab": {
          "base_uri": "https://localhost:8080/"
        },
        "id": "2rGt_c2p5kE0",
        "outputId": "d378f31a-1f37-4ada-ffa9-22f6c7d61162"
      },
      "source": [
        "a+b"
      ],
      "execution_count": 54,
      "outputs": [
        {
          "output_type": "execute_result",
          "data": {
            "text/plain": [
              "tensor([5., 7., 9.])"
            ]
          },
          "metadata": {
            "tags": []
          },
          "execution_count": 54
        }
      ]
    },
    {
      "cell_type": "code",
      "metadata": {
        "id": "RPfTTyL_5k39"
      },
      "source": [
        "a = a.add_(b)\n",
        "#a = a.add(b)\n",
        "#a = a+b"
      ],
      "execution_count": 55,
      "outputs": []
    },
    {
      "cell_type": "code",
      "metadata": {
        "colab": {
          "base_uri": "https://localhost:8080/"
        },
        "id": "-QInDkju9uOD",
        "outputId": "54b5baa7-a8c0-4347-e8bf-8d8cc92112d2"
      },
      "source": [
        "a"
      ],
      "execution_count": 56,
      "outputs": [
        {
          "output_type": "execute_result",
          "data": {
            "text/plain": [
              "tensor([5., 7., 9.])"
            ]
          },
          "metadata": {
            "tags": []
          },
          "execution_count": 56
        }
      ]
    },
    {
      "cell_type": "code",
      "metadata": {
        "colab": {
          "base_uri": "https://localhost:8080/"
        },
        "id": "9H4Qvl1X9uiK",
        "outputId": "2f8450fa-6216-4ba7-a9ab-19710824ebe1"
      },
      "source": [
        "a.mul_(b)"
      ],
      "execution_count": 57,
      "outputs": [
        {
          "output_type": "execute_result",
          "data": {
            "text/plain": [
              "tensor([20., 35., 54.])"
            ]
          },
          "metadata": {
            "tags": []
          },
          "execution_count": 57
        }
      ]
    },
    {
      "cell_type": "code",
      "metadata": {
        "colab": {
          "base_uri": "https://localhost:8080/"
        },
        "id": "ufUKjLdwBd7Q",
        "outputId": "fe0ec76f-f801-4c83-8112-76b4ceb2801c"
      },
      "source": [
        "a"
      ],
      "execution_count": 58,
      "outputs": [
        {
          "output_type": "execute_result",
          "data": {
            "text/plain": [
              "tensor([20., 35., 54.])"
            ]
          },
          "metadata": {
            "tags": []
          },
          "execution_count": 58
        }
      ]
    },
    {
      "cell_type": "code",
      "metadata": {
        "id": "RRHDe4IdMCqm"
      },
      "source": [
        "a = torch.tensor([1.,2.,3.])\n",
        "b = torch.tensor([4.,5.,6.])"
      ],
      "execution_count": 59,
      "outputs": []
    },
    {
      "cell_type": "code",
      "metadata": {
        "id": "4Lnp-PaNCO1k",
        "colab": {
          "base_uri": "https://localhost:8080/"
        },
        "outputId": "d8096c3e-4e4d-4661-eaf5-e68724cdb335"
      },
      "source": [
        "a*b"
      ],
      "execution_count": 60,
      "outputs": [
        {
          "output_type": "execute_result",
          "data": {
            "text/plain": [
              "tensor([ 4., 10., 18.])"
            ]
          },
          "metadata": {
            "tags": []
          },
          "execution_count": 60
        }
      ]
    },
    {
      "cell_type": "code",
      "metadata": {
        "colab": {
          "base_uri": "https://localhost:8080/"
        },
        "id": "zcoz3n0zLvfU",
        "outputId": "ca6e93a1-76f9-43ed-98f6-4f73b4ebd884"
      },
      "source": [
        "a.dot(b)"
      ],
      "execution_count": 61,
      "outputs": [
        {
          "output_type": "execute_result",
          "data": {
            "text/plain": [
              "tensor(32.)"
            ]
          },
          "metadata": {
            "tags": []
          },
          "execution_count": 61
        }
      ]
    },
    {
      "cell_type": "code",
      "metadata": {
        "id": "J7UJ9yx3LylS"
      },
      "source": [
        "b = torch.tensor([4.,5.,6.])\n",
        "b = b.reshape(3,1)\n",
        "a = a.reshape(1,3)"
      ],
      "execution_count": 62,
      "outputs": []
    },
    {
      "cell_type": "code",
      "metadata": {
        "colab": {
          "base_uri": "https://localhost:8080/"
        },
        "id": "sCj6jhvhMmSv",
        "outputId": "6e56c15f-6ea0-4310-9f2a-371ccbedacda"
      },
      "source": [
        "torch.mm(a,b) #Matrix multiplication"
      ],
      "execution_count": 63,
      "outputs": [
        {
          "output_type": "execute_result",
          "data": {
            "text/plain": [
              "tensor([[32.]])"
            ]
          },
          "metadata": {
            "tags": []
          },
          "execution_count": 63
        }
      ]
    },
    {
      "cell_type": "code",
      "metadata": {
        "colab": {
          "base_uri": "https://localhost:8080/"
        },
        "id": "XQ_h6jZHNMOB",
        "outputId": "751237c4-eb24-4ef8-b4be-95cf880c6e83"
      },
      "source": [
        "a @ b #do the same"
      ],
      "execution_count": 64,
      "outputs": [
        {
          "output_type": "execute_result",
          "data": {
            "text/plain": [
              "tensor([[32.]])"
            ]
          },
          "metadata": {
            "tags": []
          },
          "execution_count": 64
        }
      ]
    },
    {
      "cell_type": "code",
      "metadata": {
        "colab": {
          "base_uri": "https://localhost:8080/"
        },
        "id": "eSc491mqPD0Y",
        "outputId": "d2eef9fe-c9a0-4e79-fa9b-6aff57d3f23b"
      },
      "source": [
        "torch.norm(a) # |a|"
      ],
      "execution_count": 65,
      "outputs": [
        {
          "output_type": "execute_result",
          "data": {
            "text/plain": [
              "tensor(3.7417)"
            ]
          },
          "metadata": {
            "tags": []
          },
          "execution_count": 65
        }
      ]
    },
    {
      "cell_type": "code",
      "metadata": {
        "colab": {
          "base_uri": "https://localhost:8080/"
        },
        "id": "ZgpAS_p8PSBs",
        "outputId": "09462b73-6d0b-4e7a-8d89-7c8d22e85579"
      },
      "source": [
        "b.norm()"
      ],
      "execution_count": 66,
      "outputs": [
        {
          "output_type": "execute_result",
          "data": {
            "text/plain": [
              "tensor(8.7750)"
            ]
          },
          "metadata": {
            "tags": []
          },
          "execution_count": 66
        }
      ]
    },
    {
      "cell_type": "code",
      "metadata": {
        "colab": {
          "base_uri": "https://localhost:8080/"
        },
        "id": "Q2HAXWw4PWzc",
        "outputId": "ed764525-a9f5-4bce-c462-1e75a2cb5153"
      },
      "source": [
        "a.numel() #number of elements"
      ],
      "execution_count": 67,
      "outputs": [
        {
          "output_type": "execute_result",
          "data": {
            "text/plain": [
              "3"
            ]
          },
          "metadata": {
            "tags": []
          },
          "execution_count": 67
        }
      ]
    },
    {
      "cell_type": "code",
      "metadata": {
        "id": "-QfVfUINPav1"
      },
      "source": [
        ""
      ],
      "execution_count": 67,
      "outputs": []
    }
  ]
}